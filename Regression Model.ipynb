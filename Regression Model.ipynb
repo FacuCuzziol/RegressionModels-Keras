{
    "cells": [
        {
            "cell_type": "markdown",
            "metadata": {},
            "source": "# Regression Model With Keras - A\n### Facundo Cuzziol\n\nIn this notebook, we will create a regression model with Keras, using a sample dataset about the compressive strength of different samples of concrete, based on the volumes of different ingredients that were used to make them. As well as this, the notebook will be divided in 4 sections (A,B,C,D), making slight modifications to the model in each section.\n\nFirst, we need to import pandas and numpy, and download de data"
        },
        {
            "cell_type": "code",
            "execution_count": 2,
            "metadata": {},
            "outputs": [],
            "source": "\nimport pandas as pd\nimport numpy as np"
        },
        {
            "cell_type": "code",
            "execution_count": 3,
            "metadata": {},
            "outputs": [
                {
                    "data": {
                        "text/html": "<div>\n<style scoped>\n    .dataframe tbody tr th:only-of-type {\n        vertical-align: middle;\n    }\n\n    .dataframe tbody tr th {\n        vertical-align: top;\n    }\n\n    .dataframe thead th {\n        text-align: right;\n    }\n</style>\n<table border=\"1\" class=\"dataframe\">\n  <thead>\n    <tr style=\"text-align: right;\">\n      <th></th>\n      <th>Cement</th>\n      <th>Blast Furnace Slag</th>\n      <th>Fly Ash</th>\n      <th>Water</th>\n      <th>Superplasticizer</th>\n      <th>Coarse Aggregate</th>\n      <th>Fine Aggregate</th>\n      <th>Age</th>\n      <th>Strength</th>\n    </tr>\n  </thead>\n  <tbody>\n    <tr>\n      <th>0</th>\n      <td>540.0</td>\n      <td>0.0</td>\n      <td>0.0</td>\n      <td>162.0</td>\n      <td>2.5</td>\n      <td>1040.0</td>\n      <td>676.0</td>\n      <td>28</td>\n      <td>79.99</td>\n    </tr>\n    <tr>\n      <th>1</th>\n      <td>540.0</td>\n      <td>0.0</td>\n      <td>0.0</td>\n      <td>162.0</td>\n      <td>2.5</td>\n      <td>1055.0</td>\n      <td>676.0</td>\n      <td>28</td>\n      <td>61.89</td>\n    </tr>\n    <tr>\n      <th>2</th>\n      <td>332.5</td>\n      <td>142.5</td>\n      <td>0.0</td>\n      <td>228.0</td>\n      <td>0.0</td>\n      <td>932.0</td>\n      <td>594.0</td>\n      <td>270</td>\n      <td>40.27</td>\n    </tr>\n    <tr>\n      <th>3</th>\n      <td>332.5</td>\n      <td>142.5</td>\n      <td>0.0</td>\n      <td>228.0</td>\n      <td>0.0</td>\n      <td>932.0</td>\n      <td>594.0</td>\n      <td>365</td>\n      <td>41.05</td>\n    </tr>\n    <tr>\n      <th>4</th>\n      <td>198.6</td>\n      <td>132.4</td>\n      <td>0.0</td>\n      <td>192.0</td>\n      <td>0.0</td>\n      <td>978.4</td>\n      <td>825.5</td>\n      <td>360</td>\n      <td>44.30</td>\n    </tr>\n  </tbody>\n</table>\n</div>",
                        "text/plain": "   Cement  Blast Furnace Slag  Fly Ash  Water  Superplasticizer  \\\n0   540.0                 0.0      0.0  162.0               2.5   \n1   540.0                 0.0      0.0  162.0               2.5   \n2   332.5               142.5      0.0  228.0               0.0   \n3   332.5               142.5      0.0  228.0               0.0   \n4   198.6               132.4      0.0  192.0               0.0   \n\n   Coarse Aggregate  Fine Aggregate  Age  Strength  \n0            1040.0           676.0   28     79.99  \n1            1055.0           676.0   28     61.89  \n2             932.0           594.0  270     40.27  \n3             932.0           594.0  365     41.05  \n4             978.4           825.5  360     44.30  "
                    },
                    "execution_count": 3,
                    "metadata": {},
                    "output_type": "execute_result"
                }
            ],
            "source": "concrete_data = pd.read_csv('https://cocl.us/concrete_data')\nconcrete_data.head()"
        },
        {
            "cell_type": "code",
            "execution_count": 4,
            "metadata": {},
            "outputs": [
                {
                    "data": {
                        "text/plain": "(1030, 9)"
                    },
                    "execution_count": 4,
                    "metadata": {},
                    "output_type": "execute_result"
                }
            ],
            "source": "concrete_data.shape"
        },
        {
            "cell_type": "code",
            "execution_count": 5,
            "metadata": {},
            "outputs": [
                {
                    "data": {
                        "text/html": "<div>\n<style scoped>\n    .dataframe tbody tr th:only-of-type {\n        vertical-align: middle;\n    }\n\n    .dataframe tbody tr th {\n        vertical-align: top;\n    }\n\n    .dataframe thead th {\n        text-align: right;\n    }\n</style>\n<table border=\"1\" class=\"dataframe\">\n  <thead>\n    <tr style=\"text-align: right;\">\n      <th></th>\n      <th>Cement</th>\n      <th>Blast Furnace Slag</th>\n      <th>Fly Ash</th>\n      <th>Water</th>\n      <th>Superplasticizer</th>\n      <th>Coarse Aggregate</th>\n      <th>Fine Aggregate</th>\n      <th>Age</th>\n      <th>Strength</th>\n    </tr>\n  </thead>\n  <tbody>\n    <tr>\n      <th>count</th>\n      <td>1030.000000</td>\n      <td>1030.000000</td>\n      <td>1030.000000</td>\n      <td>1030.000000</td>\n      <td>1030.000000</td>\n      <td>1030.000000</td>\n      <td>1030.000000</td>\n      <td>1030.000000</td>\n      <td>1030.000000</td>\n    </tr>\n    <tr>\n      <th>mean</th>\n      <td>281.167864</td>\n      <td>73.895825</td>\n      <td>54.188350</td>\n      <td>181.567282</td>\n      <td>6.204660</td>\n      <td>972.918932</td>\n      <td>773.580485</td>\n      <td>45.662136</td>\n      <td>35.817961</td>\n    </tr>\n    <tr>\n      <th>std</th>\n      <td>104.506364</td>\n      <td>86.279342</td>\n      <td>63.997004</td>\n      <td>21.354219</td>\n      <td>5.973841</td>\n      <td>77.753954</td>\n      <td>80.175980</td>\n      <td>63.169912</td>\n      <td>16.705742</td>\n    </tr>\n    <tr>\n      <th>min</th>\n      <td>102.000000</td>\n      <td>0.000000</td>\n      <td>0.000000</td>\n      <td>121.800000</td>\n      <td>0.000000</td>\n      <td>801.000000</td>\n      <td>594.000000</td>\n      <td>1.000000</td>\n      <td>2.330000</td>\n    </tr>\n    <tr>\n      <th>25%</th>\n      <td>192.375000</td>\n      <td>0.000000</td>\n      <td>0.000000</td>\n      <td>164.900000</td>\n      <td>0.000000</td>\n      <td>932.000000</td>\n      <td>730.950000</td>\n      <td>7.000000</td>\n      <td>23.710000</td>\n    </tr>\n    <tr>\n      <th>50%</th>\n      <td>272.900000</td>\n      <td>22.000000</td>\n      <td>0.000000</td>\n      <td>185.000000</td>\n      <td>6.400000</td>\n      <td>968.000000</td>\n      <td>779.500000</td>\n      <td>28.000000</td>\n      <td>34.445000</td>\n    </tr>\n    <tr>\n      <th>75%</th>\n      <td>350.000000</td>\n      <td>142.950000</td>\n      <td>118.300000</td>\n      <td>192.000000</td>\n      <td>10.200000</td>\n      <td>1029.400000</td>\n      <td>824.000000</td>\n      <td>56.000000</td>\n      <td>46.135000</td>\n    </tr>\n    <tr>\n      <th>max</th>\n      <td>540.000000</td>\n      <td>359.400000</td>\n      <td>200.100000</td>\n      <td>247.000000</td>\n      <td>32.200000</td>\n      <td>1145.000000</td>\n      <td>992.600000</td>\n      <td>365.000000</td>\n      <td>82.600000</td>\n    </tr>\n  </tbody>\n</table>\n</div>",
                        "text/plain": "            Cement  Blast Furnace Slag      Fly Ash        Water  \\\ncount  1030.000000         1030.000000  1030.000000  1030.000000   \nmean    281.167864           73.895825    54.188350   181.567282   \nstd     104.506364           86.279342    63.997004    21.354219   \nmin     102.000000            0.000000     0.000000   121.800000   \n25%     192.375000            0.000000     0.000000   164.900000   \n50%     272.900000           22.000000     0.000000   185.000000   \n75%     350.000000          142.950000   118.300000   192.000000   \nmax     540.000000          359.400000   200.100000   247.000000   \n\n       Superplasticizer  Coarse Aggregate  Fine Aggregate          Age  \\\ncount       1030.000000       1030.000000     1030.000000  1030.000000   \nmean           6.204660        972.918932      773.580485    45.662136   \nstd            5.973841         77.753954       80.175980    63.169912   \nmin            0.000000        801.000000      594.000000     1.000000   \n25%            0.000000        932.000000      730.950000     7.000000   \n50%            6.400000        968.000000      779.500000    28.000000   \n75%           10.200000       1029.400000      824.000000    56.000000   \nmax           32.200000       1145.000000      992.600000   365.000000   \n\n          Strength  \ncount  1030.000000  \nmean     35.817961  \nstd      16.705742  \nmin       2.330000  \n25%      23.710000  \n50%      34.445000  \n75%      46.135000  \nmax      82.600000  "
                    },
                    "execution_count": 5,
                    "metadata": {},
                    "output_type": "execute_result"
                }
            ],
            "source": "concrete_data.describe()"
        },
        {
            "cell_type": "code",
            "execution_count": 6,
            "metadata": {},
            "outputs": [
                {
                    "data": {
                        "text/plain": "Cement                0\nBlast Furnace Slag    0\nFly Ash               0\nWater                 0\nSuperplasticizer      0\nCoarse Aggregate      0\nFine Aggregate        0\nAge                   0\nStrength              0\ndtype: int64"
                    },
                    "execution_count": 6,
                    "metadata": {},
                    "output_type": "execute_result"
                }
            ],
            "source": "\nconcrete_data.isnull().sum()"
        },
        {
            "cell_type": "markdown",
            "metadata": {},
            "source": "We now split the data into predictors and target, which would be the concrete sample strength"
        },
        {
            "cell_type": "code",
            "execution_count": 7,
            "metadata": {},
            "outputs": [],
            "source": "concrete_data_columns = concrete_data.columns\npredictors = concrete_data[concrete_data_columns[concrete_data_columns != 'Strength']] # all columns except Strength\ntarget = concrete_data['Strength'] # Strength column"
        },
        {
            "cell_type": "code",
            "execution_count": 8,
            "metadata": {},
            "outputs": [
                {
                    "data": {
                        "text/html": "<div>\n<style scoped>\n    .dataframe tbody tr th:only-of-type {\n        vertical-align: middle;\n    }\n\n    .dataframe tbody tr th {\n        vertical-align: top;\n    }\n\n    .dataframe thead th {\n        text-align: right;\n    }\n</style>\n<table border=\"1\" class=\"dataframe\">\n  <thead>\n    <tr style=\"text-align: right;\">\n      <th></th>\n      <th>Cement</th>\n      <th>Blast Furnace Slag</th>\n      <th>Fly Ash</th>\n      <th>Water</th>\n      <th>Superplasticizer</th>\n      <th>Coarse Aggregate</th>\n      <th>Fine Aggregate</th>\n      <th>Age</th>\n    </tr>\n  </thead>\n  <tbody>\n    <tr>\n      <th>0</th>\n      <td>540.0</td>\n      <td>0.0</td>\n      <td>0.0</td>\n      <td>162.0</td>\n      <td>2.5</td>\n      <td>1040.0</td>\n      <td>676.0</td>\n      <td>28</td>\n    </tr>\n    <tr>\n      <th>1</th>\n      <td>540.0</td>\n      <td>0.0</td>\n      <td>0.0</td>\n      <td>162.0</td>\n      <td>2.5</td>\n      <td>1055.0</td>\n      <td>676.0</td>\n      <td>28</td>\n    </tr>\n    <tr>\n      <th>2</th>\n      <td>332.5</td>\n      <td>142.5</td>\n      <td>0.0</td>\n      <td>228.0</td>\n      <td>0.0</td>\n      <td>932.0</td>\n      <td>594.0</td>\n      <td>270</td>\n    </tr>\n    <tr>\n      <th>3</th>\n      <td>332.5</td>\n      <td>142.5</td>\n      <td>0.0</td>\n      <td>228.0</td>\n      <td>0.0</td>\n      <td>932.0</td>\n      <td>594.0</td>\n      <td>365</td>\n    </tr>\n    <tr>\n      <th>4</th>\n      <td>198.6</td>\n      <td>132.4</td>\n      <td>0.0</td>\n      <td>192.0</td>\n      <td>0.0</td>\n      <td>978.4</td>\n      <td>825.5</td>\n      <td>360</td>\n    </tr>\n  </tbody>\n</table>\n</div>",
                        "text/plain": "   Cement  Blast Furnace Slag  Fly Ash  Water  Superplasticizer  \\\n0   540.0                 0.0      0.0  162.0               2.5   \n1   540.0                 0.0      0.0  162.0               2.5   \n2   332.5               142.5      0.0  228.0               0.0   \n3   332.5               142.5      0.0  228.0               0.0   \n4   198.6               132.4      0.0  192.0               0.0   \n\n   Coarse Aggregate  Fine Aggregate  Age  \n0            1040.0           676.0   28  \n1            1055.0           676.0   28  \n2             932.0           594.0  270  \n3             932.0           594.0  365  \n4             978.4           825.5  360  "
                    },
                    "execution_count": 8,
                    "metadata": {},
                    "output_type": "execute_result"
                }
            ],
            "source": "predictors.head()"
        },
        {
            "cell_type": "code",
            "execution_count": 9,
            "metadata": {
                "scrolled": true
            },
            "outputs": [
                {
                    "data": {
                        "text/plain": "0    79.99\n1    61.89\n2    40.27\n3    41.05\n4    44.30\nName: Strength, dtype: float64"
                    },
                    "execution_count": 9,
                    "metadata": {},
                    "output_type": "execute_result"
                }
            ],
            "source": "target.head()\n"
        },
        {
            "cell_type": "code",
            "execution_count": 10,
            "metadata": {},
            "outputs": [
                {
                    "data": {
                        "text/plain": "8"
                    },
                    "execution_count": 10,
                    "metadata": {},
                    "output_type": "execute_result"
                }
            ],
            "source": "n_cols = predictors.shape[1] # number of predictors\nn_cols\n\n\n\n"
        },
        {
            "cell_type": "markdown",
            "metadata": {},
            "source": "Now we need to import the necessesary libraries to make our regression model and to interact with it."
        },
        {
            "cell_type": "code",
            "execution_count": 11,
            "metadata": {},
            "outputs": [
                {
                    "name": "stderr",
                    "output_type": "stream",
                    "text": "Using TensorFlow backend.\n"
                }
            ],
            "source": "import keras\nfrom keras.models import Sequential\nfrom keras.layers import Dense\n"
        },
        {
            "cell_type": "markdown",
            "metadata": {},
            "source": "Now we define a function that creates a model with one hidden lazer with 10 neurons or nodes, and a ReLU activation function, using adam optimizer and the mean squared error as the loss function"
        },
        {
            "cell_type": "code",
            "execution_count": 13,
            "metadata": {},
            "outputs": [],
            "source": "# define regression model\ndef regression_model():\n    # create model\n    model = Sequential()\n    model.add(Dense(10, activation='relu', input_shape=(n_cols,)))\n    model.add(Dense(1))\n    \n    # compile model\n    model.compile(optimizer='adam', loss='mean_squared_error')\n    return model"
        },
        {
            "cell_type": "code",
            "execution_count": 14,
            "metadata": {},
            "outputs": [],
            "source": "from sklearn.model_selection import train_test_split"
        },
        {
            "cell_type": "markdown",
            "metadata": {},
            "source": "We now split the data into a training and a test set, holding 30% of the data for testing"
        },
        {
            "cell_type": "code",
            "execution_count": 15,
            "metadata": {},
            "outputs": [],
            "source": "\nX_train, X_test, y_train, y_test = train_test_split(predictors, target, test_size=0.3, random_state=42)"
        },
        {
            "cell_type": "markdown",
            "metadata": {},
            "source": "### Train and Test "
        },
        {
            "cell_type": "code",
            "execution_count": 16,
            "metadata": {},
            "outputs": [
                {
                    "name": "stdout",
                    "output_type": "stream",
                    "text": "WARNING:tensorflow:From /opt/conda/envs/Python36/lib/python3.6/site-packages/tensorflow/python/framework/op_def_library.py:263: colocate_with (from tensorflow.python.framework.ops) is deprecated and will be removed in a future version.\nInstructions for updating:\nColocations handled automatically by placer.\n"
                }
            ],
            "source": "# build the model\nmodel = regression_model()"
        },
        {
            "cell_type": "code",
            "execution_count": 17,
            "metadata": {},
            "outputs": [
                {
                    "name": "stdout",
                    "output_type": "stream",
                    "text": "WARNING:tensorflow:From /opt/conda/envs/Python36/lib/python3.6/site-packages/tensorflow/python/ops/math_ops.py:3066: to_int32 (from tensorflow.python.ops.math_ops) is deprecated and will be removed in a future version.\nInstructions for updating:\nUse tf.cast instead.\nEpoch 1/50\n721/721 [==============================] - 2s 3ms/step - loss: 28087.4520\nEpoch 2/50\n721/721 [==============================] - 1s 835us/step - loss: 7578.8248\nEpoch 3/50\n721/721 [==============================] - 1s 772us/step - loss: 2256.6588\nEpoch 4/50\n721/721 [==============================] - 1s 741us/step - loss: 1631.5163\nEpoch 5/50\n721/721 [==============================] - 1s 804us/step - loss: 1566.5973\nEpoch 6/50\n721/721 [==============================] - 1s 871us/step - loss: 1494.5158\nEpoch 7/50\n721/721 [==============================] - 1s 1ms/step - loss: 1423.5419\nEpoch 8/50\n721/721 [==============================] - 1s 1ms/step - loss: 1352.8831\nEpoch 9/50\n721/721 [==============================] - 1s 770us/step - loss: 1288.5695\nEpoch 10/50\n721/721 [==============================] - 1s 785us/step - loss: 1224.2151\nEpoch 11/50\n721/721 [==============================] - 1s 837us/step - loss: 1161.3228\nEpoch 12/50\n721/721 [==============================] - 1s 1ms/step - loss: 1101.6841\nEpoch 13/50\n721/721 [==============================] - 1s 714us/step - loss: 1046.2995\nEpoch 14/50\n721/721 [==============================] - 1s 830us/step - loss: 993.7199\nEpoch 15/50\n721/721 [==============================] - 1s 788us/step - loss: 944.6096\nEpoch 16/50\n721/721 [==============================] - 1s 765us/step - loss: 896.9406\nEpoch 17/50\n721/721 [==============================] - 1s 759us/step - loss: 849.1108\nEpoch 18/50\n721/721 [==============================] - 1s 825us/step - loss: 809.1803\nEpoch 19/50\n721/721 [==============================] - 1s 844us/step - loss: 766.3012\nEpoch 20/50\n721/721 [==============================] - 1s 719us/step - loss: 727.7519\nEpoch 21/50\n721/721 [==============================] - 1s 922us/step - loss: 693.4148\nEpoch 22/50\n721/721 [==============================] - 1s 1ms/step - loss: 658.2077\nEpoch 23/50\n721/721 [==============================] - 1s 1ms/step - loss: 625.5420\nEpoch 24/50\n721/721 [==============================] - 1s 2ms/step - loss: 598.5099\nEpoch 25/50\n721/721 [==============================] - 1s 1ms/step - loss: 571.7953A: 0s - loss: 573.\nEpoch 26/50\n721/721 [==============================] - 1s 980us/step - loss: 544.5357\nEpoch 27/50\n721/721 [==============================] - 1s 885us/step - loss: 519.6741\nEpoch 28/50\n721/721 [==============================] - 1s 887us/step - loss: 497.1885\nEpoch 29/50\n721/721 [==============================] - 1s 888us/step - loss: 476.4259\nEpoch 30/50\n721/721 [==============================] - 1s 1ms/step - loss: 454.6184\nEpoch 31/50\n721/721 [==============================] - 1s 814us/step - loss: 435.1218\nEpoch 32/50\n721/721 [==============================] - 1s 870us/step - loss: 416.4692\nEpoch 33/50\n721/721 [==============================] - 1s 765us/step - loss: 399.7167\nEpoch 34/50\n721/721 [==============================] - 1s 854us/step - loss: 383.7109\nEpoch 35/50\n721/721 [==============================] - 1s 817us/step - loss: 366.8411\nEpoch 36/50\n721/721 [==============================] - 1s 824us/step - loss: 352.1055\nEpoch 37/50\n721/721 [==============================] - 1s 1ms/step - loss: 338.4435\nEpoch 38/50\n721/721 [==============================] - 1s 959us/step - loss: 325.1968\nEpoch 39/50\n721/721 [==============================] - 0s 676us/step - loss: 312.4408\nEpoch 40/50\n721/721 [==============================] - 1s 1ms/step - loss: 300.5047\nEpoch 41/50\n721/721 [==============================] - 1s 1ms/step - loss: 291.4069\nEpoch 42/50\n721/721 [==============================] - 0s 691us/step - loss: 280.0646\nEpoch 43/50\n721/721 [==============================] - 1s 838us/step - loss: 268.3251\nEpoch 44/50\n721/721 [==============================] - 0s 690us/step - loss: 259.6030\nEpoch 45/50\n721/721 [==============================] - 1s 923us/step - loss: 250.2445\nEpoch 46/50\n721/721 [==============================] - 1s 936us/step - loss: 240.7664\nEpoch 47/50\n721/721 [==============================] - 1s 922us/step - loss: 232.7584\nEpoch 48/50\n721/721 [==============================] - 1s 822us/step - loss: 224.8272\nEpoch 49/50\n721/721 [==============================] - 1s 766us/step - loss: 217.3545\nEpoch 50/50\n721/721 [==============================] - 1s 728us/step - loss: 211.4003\n"
                },
                {
                    "data": {
                        "text/plain": "<keras.callbacks.History at 0x7fd510175b00>"
                    },
                    "execution_count": 17,
                    "metadata": {},
                    "output_type": "execute_result"
                }
            ],
            "source": "\n# fit the model\nepochs = 50\nmodel.fit(X_train, y_train, epochs=epochs, verbose=1)"
        },
        {
            "cell_type": "code",
            "execution_count": 18,
            "metadata": {},
            "outputs": [
                {
                    "name": "stdout",
                    "output_type": "stream",
                    "text": "309/309 [==============================] - 0s 677us/step\n"
                },
                {
                    "data": {
                        "text/plain": "200.3580980516946"
                    },
                    "execution_count": 18,
                    "metadata": {},
                    "output_type": "execute_result"
                }
            ],
            "source": "# we now evaluate the model on the test data\nloss_val = model.evaluate(X_test,y_test)\ny_pred=model.predict(X_test)\nloss_val"
        },
        {
            "cell_type": "code",
            "execution_count": 19,
            "metadata": {},
            "outputs": [],
            "source": "# Now we import the mean_square_error library\nfrom sklearn.metrics import mean_squared_error"
        },
        {
            "cell_type": "code",
            "execution_count": 20,
            "metadata": {},
            "outputs": [
                {
                    "name": "stdout",
                    "output_type": "stream",
                    "text": "200.35809600452674 0.0\n"
                }
            ],
            "source": "\nmean_square_error = mean_squared_error(y_test, y_pred)\nmean = np.mean(mean_square_error)\nstandard_deviation = np.std(mean_square_error)\nprint(mean, standard_deviation)"
        },
        {
            "cell_type": "markdown",
            "metadata": {},
            "source": "After this, we make a list of 50 mean squared errors and report mean and the standard deviation of the mean squared errors"
        },
        {
            "cell_type": "code",
            "execution_count": 21,
            "metadata": {},
            "outputs": [
                {
                    "name": "stdout",
                    "output_type": "stream",
                    "text": "MSE 1: 97.57711750018173\nMSE 2: 122.76213389770113\nMSE 3: 111.05702384775897\nMSE 4: 124.68709808645896\nMSE 5: 120.35629252708459\nMSE 6: 109.71029581606967\nMSE 7: 132.0571385355829\nMSE 8: 104.7571546931097\nMSE 9: 122.52639074232972\nMSE 10: 111.12305418341677\nMSE 11: 103.22572753807488\nMSE 12: 100.47937199367288\nMSE 13: 117.18947188985386\nMSE 14: 115.27011130619975\nMSE 15: 116.44025798908716\nMSE 16: 108.8061778244463\nMSE 17: 103.15881248893861\nMSE 18: 103.01653904590792\nMSE 19: 96.54012365248597\nMSE 20: 108.9207079001615\nMSE 21: 94.89515014450913\nMSE 22: 98.4032905356398\nMSE 23: 108.07415156688505\nMSE 24: 97.23003855337988\nMSE 25: 101.68880546594515\nMSE 26: 97.2757340218257\nMSE 27: 116.47660472092119\nMSE 28: 103.51144947434706\nMSE 29: 104.71501265837537\nMSE 30: 104.52936307049106\nMSE 31: 73.83128240887787\nMSE 32: 61.022277387600504\nMSE 33: 58.79305459920642\nMSE 34: 60.67615943587714\nMSE 35: 59.99853609449269\nMSE 36: 71.03990089391813\nMSE 37: 65.26808626983544\nMSE 38: 63.55107054972726\nMSE 39: 67.56605749531471\nMSE 40: 61.41279031697986\nMSE 41: 69.707856780117\nMSE 42: 62.127216104550655\nMSE 43: 65.25769954051786\nMSE 44: 66.94396115892528\nMSE 45: 64.2305935115876\nMSE 46: 64.48788034877344\nMSE 47: 63.35598875866739\nMSE 48: 66.9021506448394\nMSE 49: 59.63153876147224\nMSE 50: 64.53106983271232\n\n\nBelow is the mean and standard deviation of 50 mean squared errors without normalized data. Total number of epochs for each training is: 50\n\nMean: 90.93591433652468\nStandard Deviation: 22.915127687458735\n"
                }
            ],
            "source": "total_mean_squared_errors=50\nepochs = 50\nmean_squared_errors = []\nfor i in range(0, total_mean_squared_errors):\n    X_train, X_test, y_train, y_test = train_test_split(predictors, target, test_size=0.3, random_state=i)\n    model.fit(X_train, y_train, epochs=epochs, verbose=0)\n    MSE = model.evaluate(X_test, y_test, verbose=0)\n    print(\"MSE \"+str(i+1)+\": \"+str(MSE))\n    y_pred = model.predict(X_test)\n    mean_square_error = mean_squared_error(y_test, y_pred)\n    mean_squared_errors.append(mean_square_error)\n\nmean_squared_errors = np.array(mean_squared_errors)\nmean = np.mean(mean_squared_errors)\nstandard_deviation = np.std(mean_squared_errors)\n\nprint('\\n')\nprint(\"Below is the mean and standard deviation of \" +str(total_mean_squared_errors) + \" mean squared errors without normalized data. Total number of epochs for each training is: \" +str(epochs) + \"\\n\")\nprint(\"Mean: \"+str(mean))\nprint(\"Standard Deviation: \"+str(standard_deviation))"
        },
        {
            "cell_type": "markdown",
            "metadata": {},
            "source": "# Regression Model With Keras - B"
        },
        {
            "cell_type": "markdown",
            "metadata": {},
            "source": "This section is quite similar to the first one, with the slight difference that we have to normalize the data first. Therefore, the procedure for the first part of this section will be almost identical to the first section."
        },
        {
            "cell_type": "markdown",
            "metadata": {},
            "source": "As we have already downloaded the required data in Section A, we are going to skip those steps in this section. We can also check the predictors and target variables to see if the data reamins properly divided"
        },
        {
            "cell_type": "code",
            "execution_count": 22,
            "metadata": {},
            "outputs": [
                {
                    "data": {
                        "text/html": "<div>\n<style scoped>\n    .dataframe tbody tr th:only-of-type {\n        vertical-align: middle;\n    }\n\n    .dataframe tbody tr th {\n        vertical-align: top;\n    }\n\n    .dataframe thead th {\n        text-align: right;\n    }\n</style>\n<table border=\"1\" class=\"dataframe\">\n  <thead>\n    <tr style=\"text-align: right;\">\n      <th></th>\n      <th>Cement</th>\n      <th>Blast Furnace Slag</th>\n      <th>Fly Ash</th>\n      <th>Water</th>\n      <th>Superplasticizer</th>\n      <th>Coarse Aggregate</th>\n      <th>Fine Aggregate</th>\n      <th>Age</th>\n    </tr>\n  </thead>\n  <tbody>\n    <tr>\n      <th>0</th>\n      <td>540.0</td>\n      <td>0.0</td>\n      <td>0.0</td>\n      <td>162.0</td>\n      <td>2.5</td>\n      <td>1040.0</td>\n      <td>676.0</td>\n      <td>28</td>\n    </tr>\n    <tr>\n      <th>1</th>\n      <td>540.0</td>\n      <td>0.0</td>\n      <td>0.0</td>\n      <td>162.0</td>\n      <td>2.5</td>\n      <td>1055.0</td>\n      <td>676.0</td>\n      <td>28</td>\n    </tr>\n    <tr>\n      <th>2</th>\n      <td>332.5</td>\n      <td>142.5</td>\n      <td>0.0</td>\n      <td>228.0</td>\n      <td>0.0</td>\n      <td>932.0</td>\n      <td>594.0</td>\n      <td>270</td>\n    </tr>\n    <tr>\n      <th>3</th>\n      <td>332.5</td>\n      <td>142.5</td>\n      <td>0.0</td>\n      <td>228.0</td>\n      <td>0.0</td>\n      <td>932.0</td>\n      <td>594.0</td>\n      <td>365</td>\n    </tr>\n    <tr>\n      <th>4</th>\n      <td>198.6</td>\n      <td>132.4</td>\n      <td>0.0</td>\n      <td>192.0</td>\n      <td>0.0</td>\n      <td>978.4</td>\n      <td>825.5</td>\n      <td>360</td>\n    </tr>\n  </tbody>\n</table>\n</div>",
                        "text/plain": "   Cement  Blast Furnace Slag  Fly Ash  Water  Superplasticizer  \\\n0   540.0                 0.0      0.0  162.0               2.5   \n1   540.0                 0.0      0.0  162.0               2.5   \n2   332.5               142.5      0.0  228.0               0.0   \n3   332.5               142.5      0.0  228.0               0.0   \n4   198.6               132.4      0.0  192.0               0.0   \n\n   Coarse Aggregate  Fine Aggregate  Age  \n0            1040.0           676.0   28  \n1            1055.0           676.0   28  \n2             932.0           594.0  270  \n3             932.0           594.0  365  \n4             978.4           825.5  360  "
                    },
                    "execution_count": 22,
                    "metadata": {},
                    "output_type": "execute_result"
                }
            ],
            "source": "predictors.head()"
        },
        {
            "cell_type": "code",
            "execution_count": 23,
            "metadata": {},
            "outputs": [
                {
                    "data": {
                        "text/plain": "0    79.99\n1    61.89\n2    40.27\n3    41.05\n4    44.30\nName: Strength, dtype: float64"
                    },
                    "execution_count": 23,
                    "metadata": {},
                    "output_type": "execute_result"
                }
            ],
            "source": "target.head()"
        },
        {
            "cell_type": "markdown",
            "metadata": {},
            "source": "## Normalize Data\nNow, the important part of this section is to Normalize the previously shown data, by substracting its mean and dividing it by its standard deviation"
        },
        {
            "cell_type": "code",
            "execution_count": 24,
            "metadata": {},
            "outputs": [
                {
                    "data": {
                        "text/html": "<div>\n<style scoped>\n    .dataframe tbody tr th:only-of-type {\n        vertical-align: middle;\n    }\n\n    .dataframe tbody tr th {\n        vertical-align: top;\n    }\n\n    .dataframe thead th {\n        text-align: right;\n    }\n</style>\n<table border=\"1\" class=\"dataframe\">\n  <thead>\n    <tr style=\"text-align: right;\">\n      <th></th>\n      <th>Cement</th>\n      <th>Blast Furnace Slag</th>\n      <th>Fly Ash</th>\n      <th>Water</th>\n      <th>Superplasticizer</th>\n      <th>Coarse Aggregate</th>\n      <th>Fine Aggregate</th>\n      <th>Age</th>\n    </tr>\n  </thead>\n  <tbody>\n    <tr>\n      <th>0</th>\n      <td>2.476712</td>\n      <td>-0.856472</td>\n      <td>-0.846733</td>\n      <td>-0.916319</td>\n      <td>-0.620147</td>\n      <td>0.862735</td>\n      <td>-1.217079</td>\n      <td>-0.279597</td>\n    </tr>\n    <tr>\n      <th>1</th>\n      <td>2.476712</td>\n      <td>-0.856472</td>\n      <td>-0.846733</td>\n      <td>-0.916319</td>\n      <td>-0.620147</td>\n      <td>1.055651</td>\n      <td>-1.217079</td>\n      <td>-0.279597</td>\n    </tr>\n    <tr>\n      <th>2</th>\n      <td>0.491187</td>\n      <td>0.795140</td>\n      <td>-0.846733</td>\n      <td>2.174405</td>\n      <td>-1.038638</td>\n      <td>-0.526262</td>\n      <td>-2.239829</td>\n      <td>3.551340</td>\n    </tr>\n    <tr>\n      <th>3</th>\n      <td>0.491187</td>\n      <td>0.795140</td>\n      <td>-0.846733</td>\n      <td>2.174405</td>\n      <td>-1.038638</td>\n      <td>-0.526262</td>\n      <td>-2.239829</td>\n      <td>5.055221</td>\n    </tr>\n    <tr>\n      <th>4</th>\n      <td>-0.790075</td>\n      <td>0.678079</td>\n      <td>-0.846733</td>\n      <td>0.488555</td>\n      <td>-1.038638</td>\n      <td>0.070492</td>\n      <td>0.647569</td>\n      <td>4.976069</td>\n    </tr>\n  </tbody>\n</table>\n</div>",
                        "text/plain": "     Cement  Blast Furnace Slag   Fly Ash     Water  Superplasticizer  \\\n0  2.476712           -0.856472 -0.846733 -0.916319         -0.620147   \n1  2.476712           -0.856472 -0.846733 -0.916319         -0.620147   \n2  0.491187            0.795140 -0.846733  2.174405         -1.038638   \n3  0.491187            0.795140 -0.846733  2.174405         -1.038638   \n4 -0.790075            0.678079 -0.846733  0.488555         -1.038638   \n\n   Coarse Aggregate  Fine Aggregate       Age  \n0          0.862735       -1.217079 -0.279597  \n1          1.055651       -1.217079 -0.279597  \n2         -0.526262       -2.239829  3.551340  \n3         -0.526262       -2.239829  5.055221  \n4          0.070492        0.647569  4.976069  "
                    },
                    "execution_count": 24,
                    "metadata": {},
                    "output_type": "execute_result"
                }
            ],
            "source": "\npredictors_norm = (predictors - predictors.mean()) / predictors.std()\npredictors_norm.head()"
        },
        {
            "cell_type": "markdown",
            "metadata": {},
            "source": "Once our data is normalize, we split again the test and trains sets as required, and build and fit our model again"
        },
        {
            "cell_type": "code",
            "execution_count": 25,
            "metadata": {},
            "outputs": [],
            "source": "\nX_train, X_test, y_train, y_test = train_test_split(predictors_norm, target, test_size=0.3, random_state=42)"
        },
        {
            "cell_type": "code",
            "execution_count": 26,
            "metadata": {},
            "outputs": [],
            "source": "# build the model\nmodel = regression_model()"
        },
        {
            "cell_type": "code",
            "execution_count": 27,
            "metadata": {},
            "outputs": [
                {
                    "name": "stdout",
                    "output_type": "stream",
                    "text": "Epoch 1/50\n - 1s - loss: 1646.0451\nEpoch 2/50\n - 1s - loss: 1625.9494\nEpoch 3/50\n - 1s - loss: 1606.1026\nEpoch 4/50\n - 2s - loss: 1587.4477\nEpoch 5/50\n - 1s - loss: 1569.3973\nEpoch 6/50\n - 1s - loss: 1551.7809\nEpoch 7/50\n - 1s - loss: 1534.8328\nEpoch 8/50\n - 1s - loss: 1518.1628\nEpoch 9/50\n - 1s - loss: 1501.6686\nEpoch 10/50\n - 1s - loss: 1485.3745\nEpoch 11/50\n - 1s - loss: 1468.8836\nEpoch 12/50\n - 1s - loss: 1452.4524\nEpoch 13/50\n - 1s - loss: 1435.7515\nEpoch 14/50\n - 1s - loss: 1418.4610\nEpoch 15/50\n - 1s - loss: 1401.0624\nEpoch 16/50\n - 1s - loss: 1383.1922\nEpoch 17/50\n - 1s - loss: 1365.0579\nEpoch 18/50\n - 1s - loss: 1346.4082\nEpoch 19/50\n - 1s - loss: 1327.2678\nEpoch 20/50\n - 1s - loss: 1307.9110\nEpoch 21/50\n - 1s - loss: 1287.9013\nEpoch 22/50\n - 1s - loss: 1267.8583\nEpoch 23/50\n - 1s - loss: 1247.3810\nEpoch 24/50\n - 1s - loss: 1226.5331\nEpoch 25/50\n - 1s - loss: 1205.4449\nEpoch 26/50\n - 1s - loss: 1183.8525\nEpoch 27/50\n - 1s - loss: 1162.2689\nEpoch 28/50\n - 1s - loss: 1140.3530\nEpoch 29/50\n - 1s - loss: 1118.2477\nEpoch 30/50\n - 1s - loss: 1096.2537\nEpoch 31/50\n - 1s - loss: 1074.4603\nEpoch 32/50\n - 1s - loss: 1052.0077\nEpoch 33/50\n - 1s - loss: 1030.0992\nEpoch 34/50\n - 1s - loss: 1008.0372\nEpoch 35/50\n - 3s - loss: 986.0140\nEpoch 36/50\n - 1s - loss: 964.1392\nEpoch 37/50\n - 1s - loss: 942.4372\nEpoch 38/50\n - 1s - loss: 921.1536\nEpoch 39/50\n - 1s - loss: 899.8064\nEpoch 40/50\n - 1s - loss: 878.9314\nEpoch 41/50\n - 1s - loss: 858.0060\nEpoch 42/50\n - 1s - loss: 837.7008\nEpoch 43/50\n - 1s - loss: 817.5748\nEpoch 44/50\n - 1s - loss: 798.0100\nEpoch 45/50\n - 1s - loss: 778.4731\nEpoch 46/50\n - 1s - loss: 759.5798\nEpoch 47/50\n - 1s - loss: 740.9896\nEpoch 48/50\n - 1s - loss: 722.8445\nEpoch 49/50\n - 1s - loss: 704.9007\nEpoch 50/50\n - 1s - loss: 687.6724\n"
                },
                {
                    "data": {
                        "text/plain": "<keras.callbacks.History at 0x7fd4d03ef748>"
                    },
                    "execution_count": 27,
                    "metadata": {},
                    "output_type": "execute_result"
                }
            ],
            "source": "\n# fit the model\nepochs = 50\nmodel.fit(X_train, y_train, epochs=epochs, verbose=2)"
        },
        {
            "cell_type": "markdown",
            "metadata": {},
            "source": "Now, we need to evaluate the model on the test data"
        },
        {
            "cell_type": "code",
            "execution_count": 28,
            "metadata": {},
            "outputs": [
                {
                    "name": "stdout",
                    "output_type": "stream",
                    "text": "309/309 [==============================] - 0s 1ms/step\n"
                },
                {
                    "data": {
                        "text/plain": "690.5666383416136"
                    },
                    "execution_count": 28,
                    "metadata": {},
                    "output_type": "execute_result"
                }
            ],
            "source": "\nloss_val = model.evaluate(X_test, y_test)\ny_pred = model.predict(X_test)\nloss_val"
        },
        {
            "cell_type": "markdown",
            "metadata": {},
            "source": "As the previous section, we calculate the mean_squared_error again, as well as the mean and standard deviation"
        },
        {
            "cell_type": "code",
            "execution_count": 29,
            "metadata": {},
            "outputs": [
                {
                    "name": "stdout",
                    "output_type": "stream",
                    "text": "690.5666277543495 0.0\n"
                }
            ],
            "source": "mean_square_error = mean_squared_error(y_test, y_pred)\nmean = np.mean(mean_square_error)\nstandard_deviation = np.std(mean_square_error)\nprint(mean, standard_deviation)"
        },
        {
            "cell_type": "markdown",
            "metadata": {},
            "source": "We now create a lsit of 50 mean squeared errors and report mean, as well as the standard deviation of the mean squared errors, inside the following loop"
        },
        {
            "cell_type": "code",
            "execution_count": 30,
            "metadata": {},
            "outputs": [
                {
                    "name": "stdout",
                    "output_type": "stream",
                    "text": "MSE 1: 224.89482980870122\nMSE 2: 148.0255813351727\nMSE 3: 91.04461250181723\nMSE 4: 73.64714557684741\nMSE 5: 57.33633401864555\nMSE 6: 53.8414350589888\nMSE 7: 53.90316846532729\nMSE 8: 39.970482403406436\nMSE 9: 42.2173079827071\nMSE 10: 41.18449762338188\nMSE 11: 38.993159815717284\nMSE 12: 37.200654372428225\nMSE 13: 42.608289971706554\nMSE 14: 43.94735322723883\nMSE 15: 37.08465553950337\nMSE 16: 32.39332749079732\nMSE 17: 37.16362878496979\nMSE 18: 35.675062753621816\nMSE 19: 34.937822669069355\nMSE 20: 37.095452194460776\nMSE 21: 32.104835139894945\nMSE 22: 32.95598747969445\nMSE 23: 29.675259488300213\nMSE 24: 33.220291347565386\nMSE 25: 36.75721238886268\nMSE 26: 36.226689249180666\nMSE 27: 30.37200251829277\nMSE 28: 31.626027974495997\nMSE 29: 34.341180659420665\nMSE 30: 31.43717917655278\nMSE 31: 28.58710173572923\nMSE 32: 28.197635934576635\nMSE 33: 28.65616726180882\nMSE 34: 31.735209498976428\nMSE 35: 34.497749106397904\nMSE 36: 36.85362728822579\nMSE 37: 27.029477745969704\nMSE 38: 34.54816523184668\nMSE 39: 31.423685623218326\nMSE 40: 26.91912955373622\nMSE 41: 33.96660393650092\nMSE 42: 28.46759307268754\nMSE 43: 32.046600508458404\nMSE 44: 35.00668255951027\nMSE 45: 34.39029942978547\nMSE 46: 32.81564719931593\nMSE 47: 29.355009825870056\nMSE 48: 33.29729048102419\nMSE 49: 30.95640984322261\nMSE 50: 30.61615138377958\n\n\nMean and standard deviation of 50 mean squared errors with normalized data. The total number of epochs used for each training is: 50\n\nMean: 43.22495361847305\nStandard Deviation: 32.279708514483524\n"
                }
            ],
            "source": "total_mean_squared_errors = 50\nepochs = 50\nmean_squared_errors = []\nfor i in range(0, total_mean_squared_errors):\n    X_train, X_test, y_train, y_test = train_test_split(predictors_norm, target, test_size=0.3, random_state=i)\n    model.fit(X_train, y_train, epochs=epochs, verbose=0)\n    MSE = model.evaluate(X_test, y_test, verbose=0)\n    print(\"MSE \"+str(i+1)+\": \"+str(MSE))\n    y_pred = model.predict(X_test)\n    mean_square_error = mean_squared_error(y_test, y_pred)\n    mean_squared_errors.append(mean_square_error)\n\nmean_squared_errors = np.array(mean_squared_errors)\nmean = np.mean(mean_squared_errors)\nstandard_deviation = np.std(mean_squared_errors)\n\nprint('\\n')\nprint(\"Mean and standard deviation of \" +str(total_mean_squared_errors) + \" mean squared errors with normalized data. The total number of epochs used for each training is: \" +str(epochs) + \"\\n\")\nprint(\"Mean: \"+str(mean))\nprint(\"Standard Deviation: \"+str(standard_deviation))"
        },
        {
            "cell_type": "markdown",
            "metadata": {},
            "source": "Comparing the MSE obtained in this section with the previous ones in section A, we can clearly see that the MSE decreases, by normalizing the data."
        },
        {
            "cell_type": "markdown",
            "metadata": {},
            "source": "# Regression Model With Keras - C\n\nIn this section, we make the following modification: Use a value of 100 epochs instead of 50 for training. This is based on the normalized data from section B. Consequently, we just need to run again the following commands"
        },
        {
            "cell_type": "code",
            "execution_count": 31,
            "metadata": {},
            "outputs": [
                {
                    "name": "stdout",
                    "output_type": "stream",
                    "text": "MSE 1: 31.538386755390846\nMSE 2: 30.75562438224126\nMSE 3: 26.04377460171104\nMSE 4: 29.570554048112296\nMSE 5: 29.607472262336213\nMSE 6: 29.30570815990658\nMSE 7: 34.44762099676534\nMSE 8: 27.238987006030037\nMSE 9: 26.954508858591222\nMSE 10: 25.768317867637066\nMSE 11: 27.722538870900966\nMSE 12: 28.6146047153905\nMSE 13: 28.943150739453756\nMSE 14: 35.39771413957417\nMSE 15: 25.36139080208096\nMSE 16: 24.15951720179092\nMSE 17: 30.138911250339742\nMSE 18: 29.456249088916962\nMSE 19: 29.13411514504442\nMSE 20: 28.916316961393388\nMSE 21: 29.251819746393988\nMSE 22: 26.48741946174103\nMSE 23: 27.248089132957087\nMSE 24: 26.00049234285324\nMSE 25: 30.887579976547883\nMSE 26: 29.988366111582536\nMSE 27: 25.128676121288905\nMSE 28: 26.688428563979066\nMSE 29: 29.901272239808513\nMSE 30: 27.076599367999723\nMSE 31: 25.423053259988432\nMSE 32: 23.81200462637596\nMSE 33: 23.617176339850072\nMSE 34: 27.81700316370498\nMSE 35: 31.197814916715654\nMSE 36: 30.60329713790548\nMSE 37: 23.987710431169923\nMSE 38: 30.47809346516927\nMSE 39: 28.272166761379797\nMSE 40: 25.91756336125741\nMSE 41: 28.888072430508807\nMSE 42: 25.36186154066166\nMSE 43: 27.97182907795829\nMSE 44: 30.59326226194314\nMSE 45: 28.927911579416023\nMSE 46: 29.95858522680585\nMSE 47: 26.972386332391537\nMSE 48: 30.15582891421025\nMSE 49: 28.912412044685635\nMSE 50: 28.596634528397743\n\n\nMean and standard deviation of  50 mean squared errors with normalized data. Total number of epochs for each training is: 100\n\nMean: 28.303977065946572\nStandard Deviation: 2.486705351875725\n"
                }
            ],
            "source": "\ntotal_mean_squared_errors = 50\nepochs = 100\nmean_squared_errors = []\nfor i in range(0, total_mean_squared_errors):\n    X_train, X_test, y_train, y_test = train_test_split(predictors_norm, target, test_size=0.3, random_state=i)\n    model.fit(X_train, y_train, epochs=epochs, verbose=0)\n    MSE = model.evaluate(X_test, y_test, verbose=0)\n    print(\"MSE \"+str(i+1)+\": \"+str(MSE))\n    y_pred = model.predict(X_test)\n    mean_square_error = mean_squared_error(y_test, y_pred)\n    mean_squared_errors.append(mean_square_error)\n\nmean_squared_errors = np.array(mean_squared_errors)\nmean = np.mean(mean_squared_errors)\nstandard_deviation = np.std(mean_squared_errors)\n\nprint('\\n')\nprint(\"Mean and standard deviation of  \" +str(total_mean_squared_errors) + \" mean squared errors with normalized data. Total number of epochs for each training is: \" +str(epochs) + \"\\n\")\nprint(\"Mean: \"+str(mean))\nprint(\"Standard Deviation: \"+str(standard_deviation))"
        },
        {
            "cell_type": "markdown",
            "metadata": {},
            "source": "Using 100 epochs instead of 50 for training, makes the MSE decrease, in coparison with the results from section B"
        },
        {
            "cell_type": "markdown",
            "metadata": {},
            "source": "# Regression Model With Keras - D\n\nIn this last section, we add three hidden layers, each one of them with 10 nodes and a ReLU activation function. In order to do so, we modify our regression_model function as it follows"
        },
        {
            "cell_type": "code",
            "execution_count": 32,
            "metadata": {},
            "outputs": [],
            "source": "# define regression model\ndef regression_model():\n    # create model\n    model = Sequential()\n    model.add(Dense(10, activation='relu', input_shape=(n_cols,)))\n    model.add(Dense(10, activation='relu'))\n    model.add(Dense(10, activation='relu'))\n    model.add(Dense(1))\n    \n    # compile model\n    model.compile(optimizer='adam', loss='mean_squared_error')\n    return model"
        },
        {
            "cell_type": "markdown",
            "metadata": {},
            "source": "Now, our regression model has three hidden layers, each one with 10 nodes and a ReLU activaction function, using the adam optimizer and the mean squeared error as the loss function\nNow, we new to split the data again, build our new regression model and fit it."
        },
        {
            "cell_type": "code",
            "execution_count": 33,
            "metadata": {},
            "outputs": [],
            "source": "\nX_train, X_test, y_train, y_test = train_test_split(predictors_norm, target, test_size=0.3, random_state=42)"
        },
        {
            "cell_type": "code",
            "execution_count": 34,
            "metadata": {},
            "outputs": [],
            "source": "# build the model\nmodel = regression_model()"
        },
        {
            "cell_type": "code",
            "execution_count": 35,
            "metadata": {},
            "outputs": [
                {
                    "name": "stdout",
                    "output_type": "stream",
                    "text": "Epoch 1/50\n - 2s - loss: 1582.5144\nEpoch 2/50\n - 2s - loss: 1557.6582\nEpoch 3/50\n - 2s - loss: 1522.1855\nEpoch 4/50\n - 1s - loss: 1467.6655\nEpoch 5/50\n - 1s - loss: 1380.0398\nEpoch 6/50\n - 2s - loss: 1248.5963\nEpoch 7/50\n - 2s - loss: 1067.5842\nEpoch 8/50\n - 1s - loss: 856.1258\nEpoch 9/50\n - 2s - loss: 638.5344\nEpoch 10/50\n - 1s - loss: 463.4534\nEpoch 11/50\n - 2s - loss: 360.5181\nEpoch 12/50\n - 2s - loss: 300.5154\nEpoch 13/50\n - 2s - loss: 263.6687\nEpoch 14/50\n - 2s - loss: 237.4363\nEpoch 15/50\n - 2s - loss: 218.9439\nEpoch 16/50\n - 2s - loss: 204.6135\nEpoch 17/50\n - 2s - loss: 194.3762\nEpoch 18/50\n - 2s - loss: 186.2497\nEpoch 19/50\n - 2s - loss: 180.3007\nEpoch 20/50\n - 1s - loss: 175.2682\nEpoch 21/50\n - 1s - loss: 171.4872\nEpoch 22/50\n - 4s - loss: 168.1449\nEpoch 23/50\n - 2s - loss: 165.1146\nEpoch 24/50\n - 1s - loss: 162.4731\nEpoch 25/50\n - 2s - loss: 160.0087\nEpoch 26/50\n - 2s - loss: 157.7483\nEpoch 27/50\n - 2s - loss: 155.6451\nEpoch 28/50\n - 2s - loss: 153.6367\nEpoch 29/50\n - 2s - loss: 151.9043\nEpoch 30/50\n - 2s - loss: 150.2782\nEpoch 31/50\n - 1s - loss: 148.4661\nEpoch 32/50\n - 1s - loss: 146.7741\nEpoch 33/50\n - 1s - loss: 145.5355\nEpoch 34/50\n - 2s - loss: 144.5372\nEpoch 35/50\n - 2s - loss: 143.2399\nEpoch 36/50\n - 2s - loss: 141.8657\nEpoch 37/50\n - 2s - loss: 140.8301\nEpoch 38/50\n - 1s - loss: 139.9107\nEpoch 39/50\n - 1s - loss: 138.7418\nEpoch 40/50\n - 2s - loss: 137.6060\nEpoch 41/50\n - 2s - loss: 136.8933\nEpoch 42/50\n - 2s - loss: 135.9823\nEpoch 43/50\n - 2s - loss: 135.3943\nEpoch 44/50\n - 1s - loss: 134.2503\nEpoch 45/50\n - 1s - loss: 133.4358\nEpoch 46/50\n - 1s - loss: 133.0140\nEpoch 47/50\n - 2s - loss: 132.3158\nEpoch 48/50\n - 2s - loss: 131.2065\nEpoch 49/50\n - 2s - loss: 130.7815\nEpoch 50/50\n - 2s - loss: 129.8043\n"
                },
                {
                    "data": {
                        "text/plain": "<keras.callbacks.History at 0x7fd4983bc438>"
                    },
                    "execution_count": 35,
                    "metadata": {},
                    "output_type": "execute_result"
                }
            ],
            "source": "\n# fit the model\nepochs = 50\nmodel.fit(X_train, y_train, epochs=epochs, verbose=2)"
        },
        {
            "cell_type": "markdown",
            "metadata": {},
            "source": "As the previous sections, we now evaluate our model on the test data\n"
        },
        {
            "cell_type": "code",
            "execution_count": 36,
            "metadata": {},
            "outputs": [
                {
                    "name": "stdout",
                    "output_type": "stream",
                    "text": "309/309 [==============================] - 1s 2ms/step\n"
                },
                {
                    "data": {
                        "text/plain": "124.91885210549562"
                    },
                    "execution_count": 36,
                    "metadata": {},
                    "output_type": "execute_result"
                }
            ],
            "source": "\nloss_val = model.evaluate(X_test, y_test)\ny_pred = model.predict(X_test)\nloss_val"
        },
        {
            "cell_type": "markdown",
            "metadata": {},
            "source": "And again, we compute the mean squeared error between the predicted concrete strength and the actual concrete strength"
        },
        {
            "cell_type": "code",
            "execution_count": 37,
            "metadata": {},
            "outputs": [
                {
                    "name": "stdout",
                    "output_type": "stream",
                    "text": "124.91885314927016 0.0\n"
                }
            ],
            "source": "mean_square_error = mean_squared_error(y_test, y_pred)\nmean = np.mean(mean_square_error)\nstandard_deviation = np.std(mean_square_error)\nprint(mean, standard_deviation)"
        },
        {
            "cell_type": "markdown",
            "metadata": {},
            "source": "Finally , we create a list of 50 mean squeared errors  and report mean and the standard deviation of the mean sequared errors. Also, as this section is based on section B, we use only 50 epochs, and not 100 as required in section C"
        },
        {
            "cell_type": "code",
            "execution_count": 38,
            "metadata": {},
            "outputs": [
                {
                    "name": "stdout",
                    "output_type": "stream",
                    "text": "MSE 1: 97.12971039805983\nMSE 2: 104.03520150786464\nMSE 3: 62.78348806683685\nMSE 4: 53.42261742156686\nMSE 5: 45.276721324735476\nMSE 6: 47.50588418905017\nMSE 7: 43.730516131256\nMSE 8: 34.11839410479401\nMSE 9: 38.98172945189245\nMSE 10: 37.450785207902726\nMSE 11: 31.824286470135437\nMSE 12: 28.644530879641042\nMSE 13: 37.84011437437681\nMSE 14: 35.28485932087821\nMSE 15: 31.392842771165967\nMSE 16: 26.417941084185852\nMSE 17: 33.338831491069115\nMSE 18: 31.895100321970325\nMSE 19: 29.08087324247391\nMSE 20: 31.05556546060013\nMSE 21: 28.09254492602302\nMSE 22: 28.12360111100774\nMSE 23: 23.775163909763965\nMSE 24: 24.80790656129905\nMSE 25: 29.18769314219651\nMSE 26: 29.035321565893476\nMSE 27: 25.723306538603453\nMSE 28: 24.86546112727193\nMSE 29: 26.947044792298747\nMSE 30: 25.528028611612164\nMSE 31: 20.900979600677985\nMSE 32: 24.4545266234759\nMSE 33: 21.414216507599964\nMSE 34: 25.298589663212354\nMSE 35: 27.83474541327714\nMSE 36: 28.337494081663856\nMSE 37: 20.565647565045403\nMSE 38: 23.84134891349521\nMSE 39: 22.533781810871606\nMSE 40: 21.0645638006019\nMSE 41: 25.087467292365904\nMSE 42: 22.063405756039913\nMSE 43: 26.231655355410282\nMSE 44: 29.01806756670807\nMSE 45: 24.88689816422447\nMSE 46: 25.822607466318075\nMSE 47: 22.155781199631182\nMSE 48: 27.864049016464875\nMSE 49: 24.520153434531203\nMSE 50: 24.37541875252832\n\n\nBelow is the mean and standard deviation of 50 mean squared errors with normalized data. Total number of epochs for each training is: 50\n\nMean: 32.71134904160547\nStandard Deviation: 16.21873069492483\n"
                }
            ],
            "source": "total_mean_squared_errors = 50\nepochs = 50\nmean_squared_errors = []\nfor i in range(0, total_mean_squared_errors):\n    X_train, X_test, y_train, y_test = train_test_split(predictors_norm, target, test_size=0.3, random_state=i)\n    model.fit(X_train, y_train, epochs=epochs, verbose=0)\n    MSE = model.evaluate(X_test, y_test, verbose=0)\n    print(\"MSE \"+str(i+1)+\": \"+str(MSE))\n    y_pred = model.predict(X_test)\n    mean_square_error = mean_squared_error(y_test, y_pred)\n    mean_squared_errors.append(mean_square_error)\n\nmean_squared_errors = np.array(mean_squared_errors)\nmean = np.mean(mean_squared_errors)\nstandard_deviation = np.std(mean_squared_errors)\n\nprint('\\n')\nprint(\"Below is the mean and standard deviation of \" +str(total_mean_squared_errors) + \" mean squared errors with normalized data. Total number of epochs for each training is: \" +str(epochs) + \"\\n\")\nprint(\"Mean: \"+str(mean))\nprint(\"Standard Deviation: \"+str(standard_deviation))"
        },
        {
            "cell_type": "markdown",
            "metadata": {},
            "source": "According to this results, the MSE is lower that in section B, but not as low as the values obtained in section C"
        },
        {
            "cell_type": "code",
            "execution_count": null,
            "metadata": {},
            "outputs": [],
            "source": ""
        }
    ],
    "metadata": {
        "kernelspec": {
            "display_name": "Python 3.6",
            "language": "python",
            "name": "python3"
        },
        "language_info": {
            "codemirror_mode": {
                "name": "ipython",
                "version": 3
            },
            "file_extension": ".py",
            "mimetype": "text/x-python",
            "name": "python",
            "nbconvert_exporter": "python",
            "pygments_lexer": "ipython3",
            "version": "3.6.9"
        }
    },
    "nbformat": 4,
    "nbformat_minor": 1
}